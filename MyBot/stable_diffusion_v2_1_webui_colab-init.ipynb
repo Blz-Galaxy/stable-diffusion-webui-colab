{
  "cells": [
    {
      "attachments": {},
      "cell_type": "markdown",
      "metadata": {
        "id": "view-in-github"
      },
      "source": [
        "[![Open In Colab](https://colab.research.google.com/assets/colab-badge.svg)](https://colab.research.google.com/github/Blz-Galaxy/stable-diffusion-webui-colab/blob/main/MyBot/stable_diffusion_v2_1_webui_colab-init.ipynb)"
      ]
    },
    {
      "cell_type": "code",
      "execution_count": null,
      "metadata": {
        "id": "SaAJk33ppFw1"
      },
      "outputs": [],
      "source": [
        "%cd /content\n",
        "\n",
        "%env TF_CPP_MIN_LOG_LEVEL=1\n",
        "\n",
        "import os\n",
        "from google.colab.output import eval_js\n",
        "os.environ['colab_url'] = eval_js(\"google.colab.kernel.proxyPort(7860, {'cache': false})\")\n",
        "\n",
        "!apt -y update -qq\n",
        "!wget http://launchpadlibrarian.net/367274644/libgoogle-perftools-dev_2.5-2.2ubuntu3_amd64.deb\n",
        "!wget https://launchpad.net/ubuntu/+source/google-perftools/2.5-2.2ubuntu3/+build/14795286/+files/google-perftools_2.5-2.2ubuntu3_all.deb\n",
        "!wget https://launchpad.net/ubuntu/+source/google-perftools/2.5-2.2ubuntu3/+build/14795286/+files/libtcmalloc-minimal4_2.5-2.2ubuntu3_amd64.deb\n",
        "!wget https://launchpad.net/ubuntu/+source/google-perftools/2.5-2.2ubuntu3/+build/14795286/+files/libgoogle-perftools4_2.5-2.2ubuntu3_amd64.deb\n",
        "!apt install -qq libunwind8-dev\n",
        "!dpkg -i *.deb\n",
        "%env LD_PRELOAD=libtcmalloc.so\n",
        "!rm *.deb\n",
        "\n",
        "!apt -y install -qq aria2\n",
        "!pip install -q torch==2.0.0+cu118 torchvision==0.15.1+cu118 torchaudio==2.0.1+cu118 torchtext==0.15.1 torchdata==0.6.0 --extra-index-url https://download.pytorch.org/whl/cu118 -U\n",
        "!pip install -q xformers==0.0.18 triton==2.0.0 -U\n",
        "\n",
        "!git clone -b v2.2 https://github.com/camenduru/stable-diffusion-webui\n",
        "!wget https://raw.githubusercontent.com/camenduru/stable-diffusion-webui-scripts/main/run_n_times.py -O /content/stable-diffusion-webui/scripts/run_n_times.py\n",
        "\n",
        "#生成关键帧动画\n",
        "!git clone https://github.com/deforum-art/deforum-for-automatic1111-webui /content/stable-diffusion-webui/extensions/deforum-for-automatic1111-webui\n",
        "\n",
        "!git clone https://github.com/AlUlkesh/stable-diffusion-webui-images-browser /content/stable-diffusion-webui/extensions/stable-diffusion-webui-images-browser\n",
        "!git clone https://github.com/camenduru/stable-diffusion-webui-huggingface /content/stable-diffusion-webui/extensions/stable-diffusion-webui-huggingface\n",
        "!git clone https://github.com/camenduru/sd-civitai-browser /content/stable-diffusion-webui/extensions/sd-civitai-browser\n",
        "!git clone https://github.com/kohya-ss/sd-webui-additional-networks /content/stable-diffusion-webui/extensions/sd-webui-additional-networks\n",
        "!git clone https://github.com/Mikubill/sd-webui-controlnet /content/stable-diffusion-webui/extensions/sd-webui-controlnet\n",
        "!git clone https://github.com/fkunn1326/openpose-editor /content/stable-diffusion-webui/extensions/openpose-editor\n",
        "!git clone https://github.com/jexom/sd-webui-depth-lib /content/stable-diffusion-webui/extensions/sd-webui-depth-lib\n",
        "!git clone https://github.com/hnmr293/posex /content/stable-diffusion-webui/extensions/posex\n",
        "!git clone https://github.com/camenduru/sd-webui-tunnels /content/stable-diffusion-webui/extensions/sd-webui-tunnels\n",
        "!git clone https://github.com/etherealxx/batchlinks-webui /content/stable-diffusion-webui/extensions/batchlinks-webui\n",
        "!git clone https://github.com/dtlnor/stable-diffusion-webui-localization-zh_CN /content/stable-diffusion-webui/extensions/stable-diffusion-webui-localization-zh_CN\n",
        "\n",
        "#主题插件\n",
        "#!git clone https://github.com/camenduru/stable-diffusion-webui-catppuccin /content/stable-diffusion-webui/extensions/stable-diffusion-webui-catppuccin\n",
        "!git clone https://github.com/KohakuBlueleaf/a1111-sd-webui-locon /content/stable-diffusion-webui/extensions/a1111-sd-webui-locon\n",
        "\n",
        "#背景移除插件\n",
        "!git clone https://github.com/AUTOMATIC1111/stable-diffusion-webui-rembg /content/stable-diffusion-webui/extensions/stable-diffusion-webui-rembg\n",
        "\n",
        "!git clone https://github.com/ashen-sensored/stable-diffusion-webui-two-shot /content/stable-diffusion-webui/extensions/stable-diffusion-webui-two-shot\n",
        "!git clone https://github.com/camenduru/sd_webui_stealth_pnginfo /content/stable-diffusion-webui/extensions/sd_webui_stealth_pnginfo\n",
        "\n",
        "%cd /content/stable-diffusion-webui\n",
        "!git reset --hard\n",
        "!sed -i -e 's/\\\"sd_model_checkpoint\\\"\\,/\\\"sd_model_checkpoint\\,sd_vae\\,CLIP_stop_at_last_layers\\\"\\,/g' /content/stable-diffusion-webui/modules/shared.py\n",
        "\n",
        "!mkdir /content/stable-diffusion-webui/extensions/deforum-for-automatic1111-webui/models"
      ]
    },
    {
      "cell_type": "code",
      "execution_count": null,
      "metadata": {},
      "outputs": [],
      "source": [
        "## init ONECE !!!!!\n",
        "## init ONECE !!!!!\n",
        "## init ONECE !!!!!\n",
        "\n",
        "from google.colab import drive\n",
        "drive.mount('/content/drive')\n",
        "\n",
        "#link dir\n",
        "!mkdir -p /content/drive/MyDrive/AI/stable-diffusion-webui/extensions/sd-webui-controlnet/models\n",
        "!mkdir -p /content/drive/MyDrive/AI/stable-diffusion-webui/embeddings\n",
        "!mkdir -p /content/drive/MyDrive/AI/stable-diffusion-webui/outputs\n",
        "!mkdir -p /content/drive/MyDrive/AI/stable-diffusion-webui/extensions/sd-webui-additional-networks\n",
        "!mkdir -p /content/drive/MyDrive/AI/stable-diffusion-webui/log/images\n",
        "\n",
        "!mv -b /content/stable-diffusion-webui/models /content/drive/MyDrive/AI/stable-diffusion-webui/models\n",
        "!ln -s /content/drive/MyDrive/AI/stable-diffusion-webui/models /content/stable-diffusion-webui/models\n",
        "\n",
        "!rm -rf /content/stable-diffusion-webui/extensions/sd-webui-controlnet/models\n",
        "!rm -rf /content/stable-diffusion-webui/embeddings\n",
        "!rm -rf /content/stable-diffusion-webui/outputs\n",
        "!rm -rf /content/stable-diffusion-webui/log\n",
        "\n",
        "!ln -s /content/drive/MyDrive/AI/stable-diffusion-webui/extensions/sd-webui-controlnet/models /content/stable-diffusion-webui/extensions/sd-webui-controlnet/models\n",
        "!ln -s /content/drive/MyDrive/AI/stable-diffusion-webui/embeddings /content/stable-diffusion-webui/embeddings\n",
        "!ln -s /content/drive/MyDrive/AI/stable-diffusion-webui/outputs /content/stable-diffusion-webui/outputs\n",
        "!ln -s /content/drive/MyDrive/AI/stable-diffusion-webui/log /content/stable-diffusion-webui/log\n",
        "\n",
        "#negative & positive\n",
        "!git clone https://huggingface.co/embed/negative /content/stable-diffusion-webui/embeddings/negative\n",
        "!git clone https://huggingface.co/embed/lora /content/stable-diffusion-webui/models/Lora/positive\n",
        "\n",
        "#create\n",
        "!touch /content/drive/MyDrive/AI/stable-diffusion-webui/cache.json\n",
        "!touch /content/drive/MyDrive/AI/stable-diffusion-webui/config.json\n",
        "!touch /content/drive/MyDrive/AI/stable-diffusion-webui/extensions/sd-webui-additional-networks/hashes.json\n",
        "!touch /content/drive/MyDrive/AI/stable-diffusion-webui/ui-config.json\n",
        "!touch /content/drive/MyDrive/AI/stable-diffusion-webui/params.txt\n",
        "!touch /content/drive/MyDrive/AI/stable-diffusion-webui/styles.csv\n",
        "!touch /content/drive/MyDrive/AI/stable-diffusion-webui/styles.csv\n",
        "\n",
        "!echo \"{}\" > /content/drive/MyDrive/AI/stable-diffusion-webui/cache.json\n",
        "!echo \"{}\" > /content/drive/MyDrive/AI/stable-diffusion-webui/config.json\n",
        "!echo \"{}\" > /content/drive/MyDrive/AI/stable-diffusion-webui/extensions/sd-webui-additional-networks/hashes.json\n",
        "!echo \"{}\" > /content/drive/MyDrive/AI/stable-diffusion-webui/ui-config.json\n",
        "\n",
        "#link config\n",
        "!mv /content/stable-diffusion-webui/cache.json /content/drive/MyDrive/AI/stable-diffusion-webui/cache.json\n",
        "!mv /content/stable-diffusion-webui/config.json /content/drive/MyDrive/AI/stable-diffusion-webui/config.json\n",
        "!mv /content/stable-diffusion-webui/ui-config.json /content/drive/MyDrive/AI/stable-diffusion-webui/ui-config.json\n",
        "!mv /content/stable-diffusion-webui/params.txt /content/drive/MyDrive/AI/stable-diffusion-webui/params.txt\n",
        "!mv /content/stable-diffusion-webui/styles.csv /content/drive/MyDrive/AI/stable-diffusion-webui/styles.csv\n",
        "!mv /content/stable-diffusion-webui/extensions/sd-webui-additional-networks/hashes.json /content/drive/MyDrive/AI/stable-diffusion-webui/extensions/sd-webui-additional-networks/hashes.json\n",
        "\n",
        "!ln -s /content/drive/MyDrive/AI/stable-diffusion-webui/cache.json /content/stable-diffusion-webui/cache.json\n",
        "!ln -s /content/drive/MyDrive/AI/stable-diffusion-webui/config.json /content/stable-diffusion-webui/config.json\n",
        "!ln -s /content/drive/MyDrive/AI/stable-diffusion-webui/ui-config.json /content/stable-diffusion-webui/ui-config.json\n",
        "!ln -s /content/drive/MyDrive/AI/stable-diffusion-webui/params.txt /content/stable-diffusion-webui/params.txt\n",
        "!ln -s /content/drive/MyDrive/AI/stable-diffusion-webui/styles.csv /content/stable-diffusion-webui/styles.csv\n",
        "!ln -s /content/drive/MyDrive/AI/stable-diffusion-webui/extensions/sd-webui-additional-networks/hashes.json /content/stable-diffusion-webui/extensions/sd-webui-additional-networks/hashes.json"
      ]
    },
    {
      "cell_type": "code",
      "execution_count": null,
      "metadata": {},
      "outputs": [],
      "source": [
        "#origin\n",
        "!aria2c --console-log-level=error -c -x 16 -k 1M -s 16 https://huggingface.co/ckpt/ControlNet/resolve/main/canny-sd21-safe.safetensors -d /content/stable-diffusion-webui/extensions/sd-webui-controlnet/models -o canny-sd21-safe.safetensors\n",
        "!aria2c --console-log-level=error -c -x 16 -k 1M -s 16 https://huggingface.co/ckpt/ControlNet/resolve/main/depth-sd21-safe.safetensors -d /content/stable-diffusion-webui/extensions/sd-webui-controlnet/models -o depth-sd21-safe.safetensors\n",
        "!aria2c --console-log-level=error -c -x 16 -k 1M -s 16 https://huggingface.co/ckpt/ControlNet/resolve/main/hed-sd21-safe.safetensors -d /content/stable-diffusion-webui/extensions/sd-webui-controlnet/models -o hed-sd21-safe.safetensors\n",
        "!aria2c --console-log-level=error -c -x 16 -k 1M -s 16 https://huggingface.co/ckpt/ControlNet/resolve/main/openpose-sd21-safe.safetensors -d /content/stable-diffusion-webui/extensions/sd-webui-controlnet/models -o openpose-sd21-safe.safetensors\n",
        "!aria2c --console-log-level=error -c -x 16 -k 1M -s 16 https://huggingface.co/ckpt/ControlNet/resolve/main/scribble-sd21-safe.safetensors -d /content/stable-diffusion-webui/extensions/sd-webui-controlnet/models -o scribble-sd21-safe.safetensors\n",
        "!aria2c --console-log-level=error -c -x 16 -k 1M -s 16 https://huggingface.co/ckpt/ControlNet/raw/main/cldm_v21.yaml -d /content/stable-diffusion-webui/extensions/sd-webui-controlnet/models -o canny-sd21-safe.yaml\n",
        "!aria2c --console-log-level=error -c -x 16 -k 1M -s 16 https://huggingface.co/ckpt/ControlNet/raw/main/cldm_v21.yaml -d /content/stable-diffusion-webui/extensions/sd-webui-controlnet/models -o depth-sd21-safe.yaml\n",
        "!aria2c --console-log-level=error -c -x 16 -k 1M -s 16 https://huggingface.co/ckpt/ControlNet/raw/main/cldm_v21.yaml -d /content/stable-diffusion-webui/extensions/sd-webui-controlnet/models -o hed-sd21-safe.yaml\n",
        "!aria2c --console-log-level=error -c -x 16 -k 1M -s 16 https://huggingface.co/ckpt/ControlNet/raw/main/cldm_v21.yaml -d /content/stable-diffusion-webui/extensions/sd-webui-controlnet/models -o openpose-sd21-safe.yaml\n",
        "!aria2c --console-log-level=error -c -x 16 -k 1M -s 16 https://huggingface.co/ckpt/ControlNet/raw/main/cldm_v21.yaml -d /content/stable-diffusion-webui/extensions/sd-webui-controlnet/models -o scribble-sd21-safe.yaml\n",
        "\n",
        "!aria2c --console-log-level=error -c -x 16 -s 16 -k 1M https://huggingface.co/ckpt/stable-diffusion-2-1/resolve/main/v2-1_768-ema-pruned.ckpt -d /content/stable-diffusion-webui/models/Stable-diffusion -o v2-1_768-ema-pruned.ckpt\n",
        "!aria2c --console-log-level=error -c -x 16 -s 16 -k 1M https://huggingface.co/ckpt/stable-diffusion-2-1/raw/main/v2-inference-v.yaml -d /content/stable-diffusion-webui/models/Stable-diffusion -o v2-1_768-ema-pruned.yaml\n",
        "\n",
        "!aria2c --console-log-level=error -c -x 16 -s 16 -k 1M https://huggingface.co/joachimsallstrom/Double-Exposure-Embedding/resolve/main/dblx.pt -d /content/stable-diffusion-webui/embeddings -o dblx.pt\n",
        "!aria2c --console-log-level=error -c -x 16 -s 16 -k 1M https://huggingface.co/Conflictx/AnimeScreencap/resolve/main/AnimeScreenCap.pt -d /content/stable-diffusion-webui/embeddings -o AnimeScreenCap.pt\n",
        "\n"
      ]
    },
    {
      "cell_type": "code",
      "execution_count": null,
      "metadata": {},
      "outputs": [],
      "source": [
        "#openpose\n",
        "!aria2c --console-log-level=error -c -x 16 -k 1M -s 16 https://huggingface.co/lllyasviel/ControlNet/resolve/main/models/control_sd15_openpose.pth -d /content/stable-diffusion-webui/models/ControlNet -o control_sd15_openpose.pth\n",
        "!aria2c --console-log-level=error -c -x 16 -k 1M -s 16 https://huggingface.co/lllyasviel/ControlNet/resolve/main/models/control_sd15_canny.pth -d /content/stable-diffusion-webui/models/ControlNet -o control_sd15_canny.pth\n",
        "!aria2c --console-log-level=error -c -x 16 -k 1M -s 16 https://huggingface.co/lllyasviel/ControlNet/resolve/main/models/control_sd15_depth.pth -d /content/stable-diffusion-webui/models/ControlNet -o control_sd15_depth.pth\n",
        "\n",
        "!aria2c --console-log-level=error -c -x 16 -k 1M -s 16 https://huggingface.co/ckpt/ControlNet/raw/main/cldm_v15.yaml -d /content/stable-diffusion-webui/extensions/sd-webui-controlnet/models -o cldm_v15.yaml\n"
      ]
    },
    {
      "cell_type": "code",
      "execution_count": null,
      "metadata": {},
      "outputs": [],
      "source": [
        "#bad_prompt\n",
        "#!wget https://huggingface.co/embed/bad_prompt/resolve/main/bad_prompt.pt -O /content/stable-diffusion-webui/embeddings/bad_prompt.pt\n",
        "#!wget https://huggingface.co/embed/bad_prompt/resolve/main/bad_prompt_version2.pt -O /content/stable-diffusion-webui/embeddings/bad_prompt_version2.pt"
      ]
    },
    {
      "cell_type": "code",
      "execution_count": null,
      "metadata": {},
      "outputs": [],
      "source": [
        "#real model\n",
        "!aria2c --console-log-level=error -c -x 16 -s 16 -k 1M https://huggingface.co/SG161222/Realistic_Vision_V1.4/resolve/main/Realistic_Vision_V1.4.safetensors -d /content/stable-diffusion-webui/models/Stable-diffusion -o Realistic_Vision_V1.4.safetensors\n",
        "!aria2c --console-log-level=error -c -x 16 -s 16 -k 1M https://huggingface.co/SG161222/Realistic_Vision_V2.0/resolve/main/Realistic_Vision_V2.0.safetensors -d /content/stable-diffusion-webui/models/Stable-diffusion -o Realistic_Vision_V2.0.safetensors\n",
        "!aria2c --console-log-level=error -c -x 16 -s 16 -k 1M https://civitai.com/api/download/models/11745 -d /content/stable-diffusion-webui/models/Stable-diffusion -o chilloutmix_NiPrunedFp32Fix.safetensors\n",
        "!aria2c --console-log-level=error -c -x 16 -s 16 -k 1M https://huggingface.co/runwayml/stable-diffusion-v1-5/resolve/main/v1-5-pruned-emaonly.safetensors -d /content/stable-diffusion-webui/models/Stable-diffusion -o v1-5-pruned-emaonly.safetensors\n",
        "\n",
        "#scifi\n",
        "!wget https://civitai.com/api/download/models/4980  -O /content/stable-diffusion-webui/models/Stable-diffusion/sciFiDiffusionV10_v10.ckpt\n",
        "\n",
        "#AbyssOrangeMix3(AOM3)\n",
        "!aria2c --console-log-level=error -c -x 16 -s 16 -k 1M https://civitai.com/api/download/models/17233 -d /content/stable-diffusion-webui/models/Stable-diffusion -o abyssorangemix3AOM3_aom3a1b.safetensors\n",
        "\n",
        "#LoRA\n",
        "!aria2c --console-log-level=error -c -x 16 -k 1M -s 16 https://civitai.com/api/download/models/15581 -d /content/stable-diffusion-webui/models/Lora -o asianmale_v10.safetensors\n",
        "\n",
        "#upscaler\n",
        "!aria2c --console-log-level=error -c -x 16 -s 16 -k 1M https://huggingface.co/embed/upscale/resolve/main/4x-UltraSharp.pth -d /content/stable-diffusion-webui/models/ESRGAN -o 4x-UltraSharp.pth"
      ]
    },
    {
      "cell_type": "code",
      "execution_count": null,
      "metadata": {},
      "outputs": [],
      "source": [
        "#special model\n",
        "!aria2c --console-log-level=error -c -x 16 -s 16 -k 1M https://civitai.com/api/download/models/4659?type=Model\\&format=SafeTensor -d /content/stable-diffusion-webui/models/Stable-diffusion -o homoerotic_v2.safetensors\n",
        "!aria2c --console-log-level=error -c -x 16 -s 16 -k 1M https://civitai.com/api/download/models/15640?type=Model\\&format=SafeTensor -d /content/stable-diffusion-webui/models/Stable-diffusion -o uberRealisticPornMerge_urpmv13.safetensors\n",
        "!aria2c --console-log-level=error -c -x 16 -s 16 -k 1M https://civitai.com/api/download/models/16619 -d /content/stable-diffusion-webui/models/Stable-diffusion -o grapefruitHentaiModel_grapefruitv41.safetensors\n",
        "!aria2c --console-log-level=error -c -x 16 -k 1M -s 16 https://civitai.com/api/download/models/5038 -d /content/stable-diffusion-webui/models/Stable-diffusion -o abyssorangemix2_Hard.safetensors\n",
        "\n",
        "#special LoRA\n",
        "!aria2c --console-log-level=error -c -x 16 -k 1M -s 16 https://civitai.com/api/download/models/17719 -d /content/stable-diffusion-webui/models/Lora -o airoticartsPenisModel_v10Lora.safetensors\n",
        "!aria2c --console-log-level=error -c -x 16 -k 1M -s 16 https://civitai.com/api/download/models/17285 -d /content/stable-diffusion-webui/models/Lora -o uncutPenisLora_assholeInpanting.safetensors\n",
        "!wget https://civitai.com/api/download/models/16518 -O /content/stable-diffusion-webui/models/Lora/husbandoLora_v3.safetensors\n"
      ]
    },
    {
      "cell_type": "code",
      "execution_count": null,
      "metadata": {},
      "outputs": [],
      "source": [
        "#normal launch\n",
        "%cd /content/stable-diffusion-webui\n",
        "!python launch.py --listen --xformers --enable-insecure-extension-access --theme dark --gradio-queue --multiple"
      ]
    },
    {
      "cell_type": "code",
      "execution_count": null,
      "metadata": {},
      "outputs": [],
      "source": [
        "#use password launch\n",
        "!ln -s /content/drive/MyDrive/auth /content/auth\n",
        "%cd /content/stable-diffusion-webui\n",
        "!python launch.py --listen --xformers --enable-insecure-extension-access --theme dark --gradio-queue --multiple --gradio-auth-path \"/content/auth/pwd4webui.txt\""
      ]
    },
    {
      "cell_type": "code",
      "execution_count": null,
      "metadata": {},
      "outputs": [],
      "source": [
        "#background\n",
        "!nohup python launch.py --listen --xformers --enable-insecure-extension-access --theme dark --gradio-queue --multiple --gradio-auth-path \"/content/auth/pwd4webui.txt\" > /context/log.txt 2>&1 &\n",
        "!tail -F /context/log.txt"
      ]
    },
    {
      "cell_type": "code",
      "execution_count": null,
      "metadata": {},
      "outputs": [],
      "source": [
        "#防止colab自动断开连接\n",
        "function ConnectButton(){\n",
        "    console.log(\"Connect pushed\"); \n",
        "    document.querySelector(\"#top-toolbar > colab-connect-button\").shadowRoot.querySelector(\"#connect\").click() \n",
        "}\n",
        "setInterval(ConnectButton,60000);\n",
        "\n",
        "39619\n",
        "#执行了代码后，记下弹出的数字，那是intervalId，当想停止这段代码的执行时，只需要执行\n",
        "clearInterval(intervalId)"
      ]
    }
  ],
  "metadata": {
    "accelerator": "GPU",
    "colab": {
      "private_outputs": true,
      "provenance": []
    },
    "gpuClass": "standard",
    "kernelspec": {
      "display_name": "Python 3",
      "name": "python3"
    },
    "language_info": {
      "name": "python"
    }
  },
  "nbformat": 4,
  "nbformat_minor": 0
}
